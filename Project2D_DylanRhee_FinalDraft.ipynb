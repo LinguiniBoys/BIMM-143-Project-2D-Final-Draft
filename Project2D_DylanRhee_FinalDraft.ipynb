{
 "cells": [
  {
   "cell_type": "markdown",
   "id": "ab31bc6e",
   "metadata": {},
   "source": [
    "# Project 2D - Dylan Rhee"
   ]
  },
  {
   "cell_type": "markdown",
   "id": "017356e1",
   "metadata": {},
   "source": [
    "### Scientific Question: What are the differences between the amino acid sequences in the top 3 proteins of whey protein (Beta-lactoglobulin, Alpha-lactalbumin, Glycomacropeptide) and the top 2 proteins in soybean (β-conglycinin, Glycinin)?\n",
    "Beta-lactoglobulin has been found to be one of the major components of whey protein and has been linked in many studies to increased cell proliferation. It has also been discovered that the conformation of beta-lactoglobulin plays a large role in determining its function. As a result, beta-lactoglobulin has been also considered in terms of its potential in enhancing human immunity (Tai et al., 2016). \n",
    "\n",
    "Another component of whey protein, alpha-lactalbumin, has been connected with many health benefits such as enhancing sleep, mood, immune responses, infant development, cancer treatment, and much more. The main component that has been studied that might give insight into these supposed health benefits is tryptophan especially in consideration of claimed benefits to mood and depression. In addition, there have been experiments done looking at connection of diets containing alpha-lactalbumin and how it increases tissue levels of gluthionine, which protects cells against oxidative stress (Layman et al., 2018).\n",
    "\n",
    "Last but not least for the whey proteins glycomacropeptide which has also boasted similar benefits such as prevention of some inflammatory diseases as well as cytoprotection against hydrogen peroxide. However, there are some unclear areas regarding glycomacropeptide's potential of anti-tumor properties and as a therapeutic. Glycomacropeptide shares a similar trait to beta-lactoglobulin where the structure plays a significant role in determining function (Córdova-Dávalos et al., 2019). \n",
    "\n",
    "Soybeans are largely comprised of two major storage proteins, β-conglycinin and glycinin, which comprise of 80-90% of the total protein in soybeans. Interestingly, soy peptides have been found to act as anti-hypertensives, anti-cancer agents, antioxidants and anti-inflammatories. It has been found that many soy peptides with hypolipidemic function, or the lowering of cholesterol, also possess anti-diabetic activity. Soy peptides have been found to have large associations with health benefits particularly the reduction of chronic diseases. To tests this numerous experiments have been done with diabetic rodents on a soy diet, which has been linked to improvements in their condition with fermented soy products showing even better results (Chatterjee et al., 2018).\n",
    "\n",
    "All of the data used within the scope of this experiment, the amino acid sequence of all five proteins, was pulled from the NCBI (National Center for Biotechnology Information: https://www.ncbi.nlm.nih.gov/). The specific database used was the protein database, which provides information such as taxonomy, source, the amino acid sequence, and more. For specific links as to where the data was found for each of the proteins they can be found under the \"Multiple Sequence Alignment Section\"."
   ]
  },
  {
   "cell_type": "markdown",
   "id": "b025acdd",
   "metadata": {},
   "source": [
    "### Hypothesis: If whey protein is considered to be more of a synthetic product as opposed to how soybean is seen as a more natural product, then there should little to no overlaps when comparing the amino acid sequences of the top 2-3 proteins found in each respective product. \n",
    "\n",
    "As stated previously all data was pulled from the NCBI protein database. From there, a small selection process was conducted for the protein such as taking into account things such as how likely the origin of the protein would be associated with human consumption. Afterwards, the fasta file would be downloaded and then read into the jupyter notebook as evident below in the multiple sequence alignment section.\n",
    "\n",
    "The first bioinformatics done was multiple sequence alignment. It should be noted that the packaged used required that all sequences be the same length and so gap sequences were needed to be added to the shorter sequences. Afterwards, multiple sequence alignment was conducted on all 5 protein samples. This would visually align all 5 protein sequences to determine if there was any common overlaps or not.\n",
    "\n",
    "The second bioinformatics method, pairiwise sequence alignment was conducted on every combination of two proteins regardless if both proteins were whey or both proteins were soy. This then yielded the score indicating the similarity of the two proteins being compared as well as visually showing the matches, mismatches, and gaps of the sequences.\n",
    "\n",
    "For the visualization of the data a heatmap was chosen to compare the scores for each of the protein combinations and then look for any patterns or relationships that can be interpreted. It should be noted no statistical test was done to determine if there is a statistically significant difference. Instead, the main focus was on the relative similarity betwen the different protein combinations to determine whether there were large overlaps or small overlaps in the amino acid sequence. "
   ]
  },
  {
   "cell_type": "markdown",
   "id": "d70eec5e",
   "metadata": {},
   "source": [
    "### Packages\n",
    "\n",
    "- Biopython: Biopython is an open-source collection of non-commercial Python tools for computational biology and bioinformatics. It is able to use a variety of file formats and deals with many types of data such as biological sequences and sequence annotations. Biopython has been designed to be functionally similar to other Bio projects and follows the conventions used by Python for ease of use. Biopython allows for accessing of online databases such as NCBI, BLAST, etc. Some modules of Biopython include SeqIO, AlignIO, pairiwise2, and more to do functions such as pairwise sequnce alignment and multiple sequence alignment. To learn more about Biopython see here: https://www.ncbi.nlm.nih.gov/pmc/articles/PMC2682512/\n",
    "\n",
    "\n",
    "- Numpy: Numpy is the fundamental package for scientific computing in Python. Numpy adds support for large multi-dimensional arrays and matrices with a wide variety of mathematical functions to work with these arrays. One of the core functions of Numpy is the \"ndarray\" or n-dimensional array data structure as it is heavily used to perform many types of data manipulation or operations on a compiled set of data. The main benefit of Numpy is that it serves as a faster alternative compared to regular Python lists. In addition, Numpy is fast and versatile and is known as the defacto standards of array computing today. To learn more about Numpy see here: https://www.w3schools.com/python/numpy/numpy_random.asp\n",
    "\n",
    "\n",
    "- Matplotlib: Matplotlib serves as a helpful tool in data visualization and graphical plotting for Python. Matplotlib is helpful in visualizing a lot of data in a more digestible manner. Matplotlib includes various plots such as line, bar, scatter, histograms, pie charts, and more. In addition, Numpy serves as the numerical mathematics extension of Matplotlib and so they work together pretty much hand in hand. Matplotlib also works closely with pandas for data manipulation and analysis but is not a required dependency. To learn more about Matplotlib see here: https://www.activestate.com/resources/quick-reads/what-is-matplotlib-in-python-how-to-use-it-for-plotting/\n"
   ]
  },
  {
   "cell_type": "markdown",
   "id": "aebbb83b",
   "metadata": {},
   "source": [
    "### Multiple Sequence Alignment \n",
    "Read in fasta files to be used for Multiple Sequence Alignment(MSA) but can use a number of file formats, which can be found here: https://biopython.org/wiki/AlignIO. A fasta file is a text file which beings with information about the sequence such as id, species, etc and is denoted by \">\" and the description following the \">\". The descripition is then followed by the actual sequence. MSA normally aims to compare 3 or more sequences by aligning the sequences together to be visually seen. From there, sequence homology can be inferred and other analyses can be performed.\n",
    "\n",
    "In the code below, fasta files are loaded and returned to confirm that fasta files are correct and loaded properly. Then the fasta files are compiled into a larger fasta file while first making sure all sequences are the same length by adding gap sequences. The compiled fasta file will then be used to conduct multiple sequence alignment. "
   ]
  },
  {
   "cell_type": "code",
   "execution_count": 1,
   "id": "dbcaf332",
   "metadata": {},
   "outputs": [],
   "source": [
    "#Import Biopython so that module such as AlignIO, SeqIO, and pairiwise2 can be imported later on\n",
    "import Bio\n",
    "\n",
    "#import ALignIO for multiple sequence alignment\n",
    "#Source: https://biopython.org/wiki/AlignIO\n",
    "from Bio import AlignIO "
   ]
  },
  {
   "cell_type": "code",
   "execution_count": 2,
   "id": "86f775f7",
   "metadata": {},
   "outputs": [
    {
     "name": "stdout",
     "output_type": "stream",
     "text": [
      "Alignment with 1 rows and 180 columns\n",
      "MKCLLLALGLALACGAQAIIVTQTMKGLDIQKVAGTWYSLAMAA...CHV CAY39357.1\n",
      "Alignment with 1 rows and 142 columns\n",
      "MRFFVPLFLVGILFPAILAKQFTKCELSQLLKDIDGYGGIALPE...EKL BAC06860.1\n",
      "Alignment with 1 rows and 190 columns\n",
      "MMKSFFLVVTILALTLPFLGAQEQNQEQPIRCEKDERFFSDKIA...TAV sp|P02668.1|CASK_BOVIN\n",
      "Alignment with 1 rows and 439 columns\n",
      "MMRVRFPLLVLLGTVFLASVCVSLKVREDENNPFYFRSSNSFQT...ALY AAB23463.1\n",
      "Alignment with 1 rows and 516 columns\n",
      "MGKPFFTLSLSSLCLLLLSSACFAITSSKFNECQLNNLNALEPD...VNP AAA33964.1\n"
     ]
    }
   ],
   "source": [
    "#Beta-lactoglobulin = Whey1\n",
    "#Alpha-lactalbumin = Whey2\n",
    "#Glycomacropeptide = Whey3\n",
    "#β-conglycinin = Soy1\n",
    "#Glycinin = Soy2 \n",
    "#variable = AlignIO.read(\"filename\", \"filetype\")\n",
    "\n",
    "#The following code shows how a file containing single alignment is loaded and returns the amino acid sequence of the protein followed by protein id\n",
    "#The print functions serve as code checks to make sure the files have the correct information and are returning a sequence and sequence id\n",
    "\n",
    "#Fasta File for Beta-lactoglobulin: https://www.ncbi.nlm.nih.gov/protein/CAY39357.1 \n",
    "#Whey1 is a global variable but won't be used for remainder portion of code\n",
    "Whey1 = AlignIO.read(\"beta_lactoglobulin\", \"fasta\")\n",
    "print(Whey1)\n",
    "\n",
    "#Fasta File for Alpha-lactalbumin: https://www.ncbi.nlm.nih.gov/protein/BAC06860.1\n",
    "#Whey2 is a global variable but won't be used for remainder portion of code\n",
    "Whey2 = AlignIO.read(\"alpha_lactalbumin\", \"fasta\")\n",
    "print(Whey2)\n",
    "\n",
    "#Fasta File for Glycomacropeptide: https://www.ncbi.nlm.nih.gov/protein/P02668\n",
    "#Whey3 is a global variable but won't be used for remainder portion of code\n",
    "Whey3 = AlignIO.read(\"glycomacropeptide\", \"fasta\")\n",
    "print(Whey3)\n",
    "\n",
    "#Fasta File for β-conglycinin: https://www.ncbi.nlm.nih.gov/protein/AAB23463.1\n",
    "#Soy1 is a global variable but won't be used for remainder portion of code\n",
    "Soy1 = AlignIO.read(\"beta_conglycinin\", \"fasta\")\n",
    "print(Soy1)\n",
    "\n",
    "#Fasta File for Glycinin: https://www.ncbi.nlm.nih.gov/protein/AAA33964.1\n",
    "#Soy2 is a global variable but won't be used for remainder portion of code\n",
    "Soy2 = AlignIO.read(\"glycinin\", \"fasta\")\n",
    "print(Soy2)\n"
   ]
  },
  {
   "cell_type": "code",
   "execution_count": 3,
   "id": "b725bf87",
   "metadata": {
    "scrolled": true
   },
   "outputs": [
    {
     "name": "stdout",
     "output_type": "stream",
     "text": [
      "['CAY39357.1', 'BAC06860.1', 'sp|P02668.1|CASK_BOVIN', 'AAB23463.1', 'AAA33964.1']\n",
      "['MKCLLLALGLALACGAQAIIVTQTMKGLDIQKVAGTWYSLAMAASDISLLDAQSAPLRVYVEELKPTPEGDLEILLQKWENGECAQKKIIAEKTKIPAVFKIDALNENKVLVLDTDYKKYLLFCMENSAEPEQSLACQCLVRTPEVDDEALEKFDKALKALPMHIRLSFNPTQLEEQCHV', 'MRFFVPLFLVGILFPAILAKQFTKCELSQLLKDIDGYGGIALPELICTMFHTSGYDTQAIVENNESTEYGLFQISNKLWCKSSQVPQSRNICDISCDKFLDDDITDDIMCAKKILDIKGIDYWLAHKALCTEKLEQWLCEKL', 'MMKSFFLVVTILALTLPFLGAQEQNQEQPIRCEKDERFFSDKIAKYIPIQYVLSRYPSYGLNYYQQKPVALINNQFLPYPYYAKPAAVRSPAQILQWQVLSNTVPAKSCQAQPTTMARHPHPHLSFMAIPPKKNQDKTEIPTINTIASGEPTSTPTTEAVESTVATLEDSPEVIESPPEINTVQVTSTAV', 'MMRVRFPLLVLLGTVFLASVCVSLKVREDENNPFYFRSSNSFQTLFENQNVRIRLLQRFNKRSPQLENLRDYRIVQFQSKPNTILLPHHADADFLLFVLSGRAILTLVNNDDRDSYNLHPGDAQRIPAGTTYYLVNPHDHQNLKIIKLAIPVNKPGRYDDFFLSSTQAQQSYLQGFSHNILETSFHSEFEEINRVLFGEEEEQRQQEGVIVELSKEQIRQLSRRAKSSSRKTISSEDEPFNLRSRNPIYSNNFGKFFEITPEKNPQLRDLDIFLSSVDINEGALLLPHFNSKAIVILVINEGDANIELVGIKEQQQKQKQEEEPLEVQRYRAELSEDDVFVIPAAYPFVVNATSNLNFLAFGINAENNQRNFLAGEKDNVVRQIERQVQELAFPGSAQDVERLLKKQRESYFVDAQPQQKEEGSKGRKGPFPSILGALY', 'MGKPFFTLSLSSLCLLLLSSACFAITSSKFNECQLNNLNALEPDHRVESEGGLIETWNSQHPELQCAGVTVSKRTLNRNGSHLPSYLPYPQMIIVVQGKGAIGFAFPGCPETFEKPQQQSSRRGSRSQQQLQDSHQKIRHFNEGDVLVIPLGVPYWTYNTGDEPVVAISPLDTSNFNNQLDQNPRVFYLAGNPDIEHPETMQQQQQQKSHGGRKQGQHRQQEEEGGSVLSGFSKHFLAQSFNTNEDTAEKLRSPDDERKQIVTVEGGLSVISPKWQEQEDEDEDEDEEYGRTPSYPPRRPSHGKHEDDEDEDEEEDQPRPDHPPQRPSRPEQQEPRGRGCQTRNGVEENICTMKLHENIARPSRADFYNPKAGRISTLNSLTLPALRQFGLSAQYVVLYRNGIYSPDWNLNANSVTMTRGKGRVRVVNCQGNAVFDGELRRGQLLVVPQNPAVAEQGGEQGLEYVVFKTHHNAVSSYIKDVFRVIPSEVLSNSYNLGQSQVRQLKYQGNSGPLVNP']\n"
     ]
    }
   ],
   "source": [
    "#Goal: Make a new fasta file that compiles the 5 fasta files for each indiivudal protein\n",
    "#Essentially combining the fasta files \n",
    "#First have to put names and sequences into two different lists\n",
    "#Source: https://www.biostars.org/p/18129/\n",
    "\n",
    "#Import SeqIO to help with appending header and sequences from the fasta files \n",
    "from Bio import SeqIO\n",
    "\n",
    "#Defining empty lists for the headers (headerList) and sequences (seqList)\n",
    "headerList = []\n",
    "seqList = []\n",
    "\n",
    "#Appending header and sequence from each individual protein fasta file to the empty lists defined previously\n",
    "#Whey1File is a global variable that contains header and sequences that will then be apppended to headerList and seqList respectively\n",
    "Whey1File = open('beta_lactoglobulin', 'r')\n",
    "for record in SeqIO.parse(Whey1File,'fasta'):\n",
    "   headerList.append(record.id)\n",
    "   seqList.append(str(record.seq))\n",
    "    \n",
    "#Whey2File is a global variable that contains header and sequences that will then be apppended to headerList and seqList respectively \n",
    "Whey2File = open('alpha_lactalbumin', 'r')\n",
    "for record in SeqIO.parse(Whey2File,'fasta'):\n",
    "   headerList.append(record.id)\n",
    "   seqList.append(str(record.seq))\n",
    "\n",
    "#Whey3File is a global variable that contains header and sequences that will then be apppended to headerList and seqList respectively    \n",
    "Whey3File = open('glycomacropeptide', 'r')\n",
    "for record in SeqIO.parse(Whey3File,'fasta'):\n",
    "   headerList.append(record.id)\n",
    "   seqList.append(str(record.seq))\n",
    "\n",
    "#Soy1File is a global variable that contains header and sequences that will then be apppended to headerList and seqList respectively\n",
    "Soy1File = open('beta_conglycinin', 'r')\n",
    "for record in SeqIO.parse(Soy1File,'fasta'):\n",
    "   headerList.append(record.id)\n",
    "   seqList.append(str(record.seq))\n",
    "    \n",
    "#Soy2File is a global variable that contains header and sequences that will then be apppended to headerList and seqList respectively   \n",
    "Soy2File = open('glycinin', 'r')\n",
    "for record in SeqIO.parse(Soy2File,'fasta'):\n",
    "   headerList.append(record.id)\n",
    "   seqList.append(str(record.seq))\n",
    "\n",
    "#Code check checking to see if the lists were made and are correct\n",
    "print(headerList)\n",
    "print(seqList)"
   ]
  },
  {
   "cell_type": "code",
   "execution_count": 4,
   "id": "b7615b93",
   "metadata": {},
   "outputs": [
    {
     "name": "stdout",
     "output_type": "stream",
     "text": [
      "516\n",
      "['MKCLLLALGLALACGAQAIIVTQTMKGLDIQKVAGTWYSLAMAASDISLLDAQSAPLRVYVEELKPTPEGDLEILLQKWENGECAQKKIIAEKTKIPAVFKIDALNENKVLVLDTDYKKYLLFCMENSAEPEQSLACQCLVRTPEVDDEALEKFDKALKALPMHIRLSFNPTQLEEQCHV------------------------------------------------------------------------------------------------------------------------------------------------------------------------------------------------------------------------------------------------------------------------------------------------------------------------------------------------', 'MRFFVPLFLVGILFPAILAKQFTKCELSQLLKDIDGYGGIALPELICTMFHTSGYDTQAIVENNESTEYGLFQISNKLWCKSSQVPQSRNICDISCDKFLDDDITDDIMCAKKILDIKGIDYWLAHKALCTEKLEQWLCEKL--------------------------------------------------------------------------------------------------------------------------------------------------------------------------------------------------------------------------------------------------------------------------------------------------------------------------------------------------------------------------------------', 'MMKSFFLVVTILALTLPFLGAQEQNQEQPIRCEKDERFFSDKIAKYIPIQYVLSRYPSYGLNYYQQKPVALINNQFLPYPYYAKPAAVRSPAQILQWQVLSNTVPAKSCQAQPTTMARHPHPHLSFMAIPPKKNQDKTEIPTINTIASGEPTSTPTTEAVESTVATLEDSPEVIESPPEINTVQVTSTAV--------------------------------------------------------------------------------------------------------------------------------------------------------------------------------------------------------------------------------------------------------------------------------------------------------------------------------------', 'MMRVRFPLLVLLGTVFLASVCVSLKVREDENNPFYFRSSNSFQTLFENQNVRIRLLQRFNKRSPQLENLRDYRIVQFQSKPNTILLPHHADADFLLFVLSGRAILTLVNNDDRDSYNLHPGDAQRIPAGTTYYLVNPHDHQNLKIIKLAIPVNKPGRYDDFFLSSTQAQQSYLQGFSHNILETSFHSEFEEINRVLFGEEEEQRQQEGVIVELSKEQIRQLSRRAKSSSRKTISSEDEPFNLRSRNPIYSNNFGKFFEITPEKNPQLRDLDIFLSSVDINEGALLLPHFNSKAIVILVINEGDANIELVGIKEQQQKQKQEEEPLEVQRYRAELSEDDVFVIPAAYPFVVNATSNLNFLAFGINAENNQRNFLAGEKDNVVRQIERQVQELAFPGSAQDVERLLKKQRESYFVDAQPQQKEEGSKGRKGPFPSILGALY-----------------------------------------------------------------------------', 'MGKPFFTLSLSSLCLLLLSSACFAITSSKFNECQLNNLNALEPDHRVESEGGLIETWNSQHPELQCAGVTVSKRTLNRNGSHLPSYLPYPQMIIVVQGKGAIGFAFPGCPETFEKPQQQSSRRGSRSQQQLQDSHQKIRHFNEGDVLVIPLGVPYWTYNTGDEPVVAISPLDTSNFNNQLDQNPRVFYLAGNPDIEHPETMQQQQQQKSHGGRKQGQHRQQEEEGGSVLSGFSKHFLAQSFNTNEDTAEKLRSPDDERKQIVTVEGGLSVISPKWQEQEDEDEDEDEEYGRTPSYPPRRPSHGKHEDDEDEDEEEDQPRPDHPPQRPSRPEQQEPRGRGCQTRNGVEENICTMKLHENIARPSRADFYNPKAGRISTLNSLTLPALRQFGLSAQYVVLYRNGIYSPDWNLNANSVTMTRGKGRVRVVNCQGNAVFDGELRRGQLLVVPQNPAVAEQGGEQGLEYVVFKTHHNAVSSYIKDVFRVIPSEVLSNSYNLGQSQVRQLKYQGNSGPLVNP']\n"
     ]
    }
   ],
   "source": [
    "#Adding gap characters so all proteins have same length, necessary for later when doing multiple sequence alignment\n",
    "#Source: https://stackoverflow.com/questions/31152011/multiple-sequence-alignment-with-unequal-string-length\n",
    "\n",
    "#Figuring out which protein has the longest amino acid length by looking at max length of all sequences in seqList\n",
    "#longest is a global variable\n",
    "longest = max(len(s) for s in seqList)\n",
    "print(longest)\n",
    "\n",
    "#Adding gaps to other proteins to match the protein with the longest amino acid length in global variable \"longest\"\n",
    "gaps = [s.ljust(longest, '-') for s in seqList]\n",
    "#Code check to see that gap sequences were added \n",
    "print(gaps)"
   ]
  },
  {
   "cell_type": "code",
   "execution_count": 5,
   "id": "c2861f3f",
   "metadata": {},
   "outputs": [],
   "source": [
    "#Create the actual file using the two lists we made for the header and sequence\n",
    "#Source: https://www.biostars.org/p/142519/\n",
    "\n",
    "#Note: gaps is the updated list containing the sequences and so seqList is not used\n",
    "#Creating a new file where we will be adding the header and sequence for each of the proteins to get our compiled fasta file\n",
    "ofile = open(\"Comparison1.txt\", \"w\")\n",
    "for i in range(len(gaps)):\n",
    "    ofile.write(\">\" + headerList[i] + \"\\n\" +gaps[i] + \"\\n\") \n",
    "ofile.close()\n",
    "\n",
    "#Create a file where gap characters were not added, this will later be used for pairwise sequence alignment \n",
    "ofile = open(\"Comparison2.txt\", \"w\")\n",
    "for i in range(len(seqList)):\n",
    "    ofile.write(\">\" + headerList[i] + \"\\n\" +seqList[i] + \"\\n\") \n",
    "ofile.close()"
   ]
  },
  {
   "cell_type": "code",
   "execution_count": 6,
   "id": "3ddfc2af",
   "metadata": {
    "scrolled": true
   },
   "outputs": [
    {
     "name": "stdout",
     "output_type": "stream",
     "text": [
      "MKCLLLALGLALACGAQAIIVTQTMKGLDIQKVAGTWYSLAMAASDISLLDAQSAPLRVYVEELKPTPEGDLEILLQKWENGECAQKKIIAEKTKIPAVFKIDALNENKVLVLDTDYKKYLLFCMENSAEPEQSLACQCLVRTPEVDDEALEKFDKALKALPMHIRLSFNPTQLEEQCHV------------------------------------------------------------------------------------------------------------------------------------------------------------------------------------------------------------------------------------------------------------------------------------------------------------------------------------------------\n",
      "MRFFVPLFLVGILFPAILAKQFTKCELSQLLKDIDGYGGIALPELICTMFHTSGYDTQAIVENNESTEYGLFQISNKLWCKSSQVPQSRNICDISCDKFLDDDITDDIMCAKKILDIKGIDYWLAHKALCTEKLEQWLCEKL--------------------------------------------------------------------------------------------------------------------------------------------------------------------------------------------------------------------------------------------------------------------------------------------------------------------------------------------------------------------------------------\n",
      "MMKSFFLVVTILALTLPFLGAQEQNQEQPIRCEKDERFFSDKIAKYIPIQYVLSRYPSYGLNYYQQKPVALINNQFLPYPYYAKPAAVRSPAQILQWQVLSNTVPAKSCQAQPTTMARHPHPHLSFMAIPPKKNQDKTEIPTINTIASGEPTSTPTTEAVESTVATLEDSPEVIESPPEINTVQVTSTAV--------------------------------------------------------------------------------------------------------------------------------------------------------------------------------------------------------------------------------------------------------------------------------------------------------------------------------------\n",
      "MMRVRFPLLVLLGTVFLASVCVSLKVREDENNPFYFRSSNSFQTLFENQNVRIRLLQRFNKRSPQLENLRDYRIVQFQSKPNTILLPHHADADFLLFVLSGRAILTLVNNDDRDSYNLHPGDAQRIPAGTTYYLVNPHDHQNLKIIKLAIPVNKPGRYDDFFLSSTQAQQSYLQGFSHNILETSFHSEFEEINRVLFGEEEEQRQQEGVIVELSKEQIRQLSRRAKSSSRKTISSEDEPFNLRSRNPIYSNNFGKFFEITPEKNPQLRDLDIFLSSVDINEGALLLPHFNSKAIVILVINEGDANIELVGIKEQQQKQKQEEEPLEVQRYRAELSEDDVFVIPAAYPFVVNATSNLNFLAFGINAENNQRNFLAGEKDNVVRQIERQVQELAFPGSAQDVERLLKKQRESYFVDAQPQQKEEGSKGRKGPFPSILGALY-----------------------------------------------------------------------------\n",
      "MGKPFFTLSLSSLCLLLLSSACFAITSSKFNECQLNNLNALEPDHRVESEGGLIETWNSQHPELQCAGVTVSKRTLNRNGSHLPSYLPYPQMIIVVQGKGAIGFAFPGCPETFEKPQQQSSRRGSRSQQQLQDSHQKIRHFNEGDVLVIPLGVPYWTYNTGDEPVVAISPLDTSNFNNQLDQNPRVFYLAGNPDIEHPETMQQQQQQKSHGGRKQGQHRQQEEEGGSVLSGFSKHFLAQSFNTNEDTAEKLRSPDDERKQIVTVEGGLSVISPKWQEQEDEDEDEDEEYGRTPSYPPRRPSHGKHEDDEDEDEEEDQPRPDHPPQRPSRPEQQEPRGRGCQTRNGVEENICTMKLHENIARPSRADFYNPKAGRISTLNSLTLPALRQFGLSAQYVVLYRNGIYSPDWNLNANSVTMTRGKGRVRVVNCQGNAVFDGELRRGQLLVVPQNPAVAEQGGEQGLEYVVFKTHHNAVSSYIKDVFRVIPSEVLSNSYNLGQSQVRQLKYQGNSGPLVNP\n"
     ]
    }
   ],
   "source": [
    "#Multiple Sequence Alignment looking to compare all proteins: Whey1, Whey2, Whey3, Soy1, and Soy2\n",
    "\n",
    "#Global variable alignment that contains the multiple sequence alignment for \"Comparison1.txt\"\n",
    "alignment = AlignIO.read(open(\"Comparison1.txt\"), \"fasta\")\n",
    "#Code check \n",
    "#print(alignment)\n",
    "\n",
    "#Code check to make sure alignment legnth is correct\n",
    "#print(\"Alignment length %i\" % alignment.get_alignment_length())\n",
    "\n",
    "#Visualize the alignments of the proteins and associated names by using a for loop to print every sequence and sequence id if needed\n",
    "for record in alignment:\n",
    "    #First print function will give the sequence followed by id of the sequence. The second print function will only show the sequences for the five proteins\n",
    "    #print(record.seq + \" \" + record.id)\n",
    "    print(record.seq)"
   ]
  },
  {
   "cell_type": "markdown",
   "id": "566fea04",
   "metadata": {},
   "source": [
    "### Pairwise Sequence Alignment \n",
    "Similar to Multiple Sequence Alignment, in the Pairwise Sequence Alignment(PSA) shown below a fasta file was loaded in. The fasta file is a regular text file that contains a header denoted by \">\" followed by information regarding the identity and more. Following the header is the sequence of the protein that will later be used in PSA. PSA aims to look at the matches, mismatches, and gaps between two sequences where each is assigned a respective value that will then be used to calculate the score. The score is indicative of how homologous the two sequences are to one another with a higher score indicating increased homology. \n",
    "\n",
    "In the code below there are two sections where PSA is done. The first section looks to individually examine PSA between all possible protein combinations. The first section is redundant but really helps when wanting to visualize the possible matches/mismatches/gaps between two proteins. The second section creates an empty numpy matrix that will be filled with scores after PSA is done on between all protein combinations using a for loop. The second section will later then be used for the heatmap."
   ]
  },
  {
   "cell_type": "code",
   "execution_count": 7,
   "id": "35b7eff9",
   "metadata": {},
   "outputs": [],
   "source": [
    "#Goal is to do pairwise sequence alignment between every possible protein pair\n",
    "#Note: This way of doing pairwise is a little redundant in terms of the code and so is only shown to visualize the matches/mismatches/gaps\n",
    "#Sources: https://towardsdatascience.com/pairwise-sequence-alignment-using-biopython-d1a9d0ba861f\n",
    "\n",
    "#import pairwise2 which will be used to do pairwise sequence alignment\n",
    "from Bio import pairwise2\n",
    "\n",
    "#import format_alignment to help with visualizing the matches/mismatches/gaps\n",
    "from Bio.pairwise2 import format_alignment\n",
    "\n",
    "#Note: have previous list seqList with all sequences and can check with print function also don't want to use gaps because pairwise sequence alignment will matches the gaps together\n",
    "#Beta-lactoglobulin = seqList[0]\n",
    "#Alpha-lactalbumin = seqList[1]\n",
    "#Glycomacropeptide = seqList[2]\n",
    "#β-conglycinin = seqList[3]\n",
    "#Glycinin = seqList[4]\n",
    "#Code check/reminder\n",
    "#print(seqList)\n",
    "\n",
    "#Note this is not the most efficient method of doing the code but helps with visualizing the various matches/mismatches/gaps if you wanna focus on an individual comparison for the proteins. For more efficient code refer to the section where pairwise is done with the for loop below.\n",
    "#Function that does pairwise sequence alignment on two sequences\n",
    "#pairwise_1(global variable) = Beta-lactoglobulin and Alpha-lactalbumin \n",
    "pairwise_1 = pairwise2.align.globalxx(seqList[0], seqList[1])\n",
    "#Code check\n",
    "#for a in pairwise_1:\n",
    "    #print(format_alignment(*a))\n",
    "    \n",
    "#pairwise_2(global variable) = Beta-lactoglobulin and Glycomacropeptide \n",
    "pairwise_2 = pairwise2.align.globalxx(seqList[0], seqList[2])\n",
    "#Code check\n",
    "#for a in pairwise_2:\n",
    "    #print(format_alignment(*a))\n",
    "    \n",
    "#pairwise_3(global variable) = Beta-lactoglobulin and β-conglycinin \n",
    "pairwise_3 = pairwise2.align.globalxx(seqList[0], seqList[3])\n",
    "#Code check\n",
    "#for a in pairwise_3:\n",
    "    #print(format_alignment(*a))\n",
    "    \n",
    "#pairwise_4(global variable) = Beta-lactoglobulin and Glycinin\n",
    "pairwise_4 = pairwise2.align.globalxx(seqList[0], seqList[4])\n",
    "#Code check\n",
    "#for a in pairwise_4:\n",
    "    #print(format_alignment(*a))\n",
    "    \n",
    "#pairwise_5(global variable) = Alpha-lactalbumin and Glycomacropeptide\n",
    "pairwise_5 = pairwise2.align.globalxx(seqList[1], seqList[2])\n",
    "#Code check\n",
    "#for a in pairwise_5:\n",
    "    #print(format_alignment(*a))\n",
    "\n",
    "#pairwise_6(global variable) = Alpha-lactalbumin and β-conglycinin \n",
    "pairwise_6 = pairwise2.align.globalxx(seqList[1], seqList[3])\n",
    "#Code check\n",
    "#for a in pairwise_6:\n",
    "    #print(format_alignment(*a))\n",
    "\n",
    "#pairwise_7(global variable) = Alpha-lactalbumin and Glycinin\n",
    "pairwise_7 = pairwise2.align.globalxx(seqList[1], seqList[4])\n",
    "#Code check\n",
    "#for a in pairwise_7:\n",
    "    #print(format_alignment(*a))\n",
    "\n",
    "#pairwise_8(global variable) = Glycomacropeptide and β-conglycinin\n",
    "pairwise_8 = pairwise2.align.globalxx(seqList[2], seqList[3])\n",
    "#Code check\n",
    "#for a in pairwise_8:\n",
    "    #print(format_alignment(*a))\n",
    "\n",
    "#pairwise_9(global variable) = Glycomacropeptide and Glycinin\n",
    "pairwise_9 = pairwise2.align.globalxx(seqList[2], seqList[4])\n",
    "#Code check\n",
    "#for a in pairwise_9:\n",
    "    #print(format_alignment(*a))\n",
    "\n",
    "#pairiwse_10(global variable) = β-conglycinin and Glycinin\n",
    "pairwise_10 = pairwise2.align.globalxx(seqList[3], seqList[4])\n",
    "#Code check\n",
    "#for a in pairwise_10:\n",
    "    #print(format_alignment(*a))"
   ]
  },
  {
   "cell_type": "code",
   "execution_count": 8,
   "id": "2782b3d8",
   "metadata": {},
   "outputs": [],
   "source": [
    "#Pairwise Sequence Alignment on Comparison2.txt which is the fasta file cotaining the sequences of all five proteins without gaps\n",
    "#Source: https://canvas.ucsd.edu/courses/29418/files/5721198?module_item_id=1126617&fd_cookie_set=1\n",
    "\n",
    "#Import numpy to be used when creating the numpy matrix\n",
    "import numpy as np\n",
    "\n",
    "#Put all data from Comparison2.txt into a list such as header, amino acid sequence, and some other information\n",
    "#Global variable PSA\n",
    "PSA = list(SeqIO.parse(\"Comparison2.txt\", \"fasta\"))\n",
    "\n",
    "#Code check to see that all the information was put into a list \n",
    "#print(PSA)\n",
    "\n",
    "#Get length of the list\n",
    "#Global variable size\n",
    "size = len(PSA)\n",
    "\n",
    "#Define variable i and j for the for loop\n",
    "i = 0\n",
    "j = 0\n",
    "\n",
    "#Create an empty numpy matrix wth dimensions that matches the length of PSA\n",
    "#Global variable score\n",
    "score = np.empty(shape=(size,size))\n",
    "\n",
    "#Nested for loop to do pairwise sequence alignment for every combination of the proteins  \n",
    "#Defining the function \"pairwise\" with parameters of PSA_array which is the empty array where the scores will be put in after doing pairwise sequence alignment and size to make sure that the array created is the correct dimensions \n",
    "def pairwise(PSA_array, size):\n",
    "    #this part of for loop helps run through every protein to be compared with all other proteins including itself\n",
    "    for i in range(size):\n",
    "        for j in range(size):\n",
    "        #Takes the sequence portion of the list and puts them into a local variable to then do pairwise later\n",
    "            X = PSA[i].seq\n",
    "            Y = PSA[j].seq\n",
    "\n",
    "        # Creates an array of all the scores after all pairwise between every protein has been done and returns only the score (numerical value)\n",
    "        # No parameters. Matches have a score of 1 while mismatch and gaps are 0.\n",
    "            PSA_array[i,j] = int(pairwise2.align.globalxx(X, Y, score_only=True))\n",
    "#Returns \"PSA_array\" which is the updated matrix including all scores after doing pairwise sequence alignment\n",
    "    return PSA_array\n",
    "#Global variable heatmapscore which fills an empty array with scores from pairwise sequence alignemtn on proteins from \"PSA\" with appropriate dimensions\n",
    "heatmapscore = pairwise(score, size)\n",
    "#Code check to see that the matrix of scores was created correctly\n",
    "#print(heatmapscore)\n"
   ]
  },
  {
   "cell_type": "markdown",
   "id": "c7067678",
   "metadata": {},
   "source": [
    "### Heat Plot\n",
    "A heat plot is a data visualization method that uses a color gradient to depict the magnitude of a particular value in two dimensions. In this case the paritcular value is the pairiwise sequence alignment scores between the two proteins being compared. \n",
    "\n",
    "In the code below the heat plot was made with the pairwise sequence alignment scores from above. Matplotlib was imported to help with setting up the heat plot and doing the actually visualization. In addition, axes were added with labels as well as labels for xticks and yticks. A colorbar was added to show what values correspond to the gradient of colors. Finally a title was added to help with distinguishing what the heat plot is depicting. However, it was necessary to normalize the scores considering each protein was different length and so the pairwise sequence alignment scores were normalized for each column."
   ]
  },
  {
   "cell_type": "code",
   "execution_count": 9,
   "id": "8d2e2349",
   "metadata": {
    "scrolled": true
   },
   "outputs": [
    {
     "name": "stdout",
     "output_type": "stream",
     "text": [
      "[[180.  58.  68.  96. 101.]\n",
      " [ 58. 142.  53.  88.  84.]\n",
      " [ 68.  53. 190.  97. 102.]\n",
      " [ 96.  88.  97. 439. 176.]\n",
      " [101.  84. 102. 176. 516.]]\n"
     ]
    },
    {
     "data": {
      "image/png": "[encoded data removed]",
      "text/plain": [
       "<Figure size 432x288 with 2 Axes>"
      ]
     },
     "metadata": {
      "needs_background": "light"
     },
     "output_type": "display_data"
    }
   ],
   "source": [
    "#Import matplotlib.pyplot to help with setting up the heatplot\n",
    "import matplotlib.pyplot as plt\n",
    "\n",
    "#Looks at the numpy array with pairwise sequnence alignment scores will be helpful with data analysis\n",
    "print(heatmapscore)\n",
    "#Normalize score for heatmap\n",
    "#Source: https://stackoverflow.com/questions/29301904/extracting-minimum-values-per-row-using-numpy\n",
    "#Source: https://stackoverflow.com/questions/19602187/numpy-divide-each-row-by-a-vector-element\n",
    "#Creates an array \"vector\" with maximum value of \"heatmapscore\" for each column\n",
    "vector = heatmapscore.max(axis=0)\n",
    "#Code check to see that it gives the maximum value \n",
    "#print(vector)\n",
    "\n",
    "#Divides each column in \"heatmapscore\" with corresponding value in \"vector\" or the maximum value for each column\n",
    "normalize = heatmapscore / vector[None,:]\n",
    "#Code check\n",
    "#print(normalize)\n",
    "\n",
    "#Creates subplot \n",
    "fig, ax = plt.subplots()\n",
    "\n",
    "#Actually show the heatplot\n",
    "plt.imshow(normalize)\n",
    "\n",
    "#Shows the axes as well as able to manipulate the color of the heatmap\n",
    "im = ax.imshow(normalize, cmap = 'Greens')\n",
    "\n",
    "#Adds a gradient scale on the right where gradient of colors have corresponding values associated aka the score\n",
    "cbar = ax.figure.colorbar(im)\n",
    "\n",
    "#Adds a title to the heatmap\n",
    "plt.title(\"Pairwise Sequence Alignment Whey vs Soy\")\n",
    "\n",
    "#Adds a title to the x-axis\n",
    "plt.xlabel(\"Protein\")\n",
    "\n",
    "#Adds a title to the y-axis\n",
    "plt.ylabel(\"Protein\")\n",
    "\n",
    "#Aim is to label the xticks and yticks on the heatmap\n",
    "#Source: https://stackoverflow.com/questions/3100985/plot-with-custom-text-for-x-axis-points\n",
    "#Global variable \"x\" which is an array of the original x-ticks\n",
    "x = np.array([0,1,2,3,4])\n",
    "#Global variable \"y\" which is an array of the original y-ticks\n",
    "y = np.array([0,1,2,3,4])\n",
    "#GLobal variable \"my_xticks\" which is an array that will replace the original x-ticks\n",
    "my_xticks = ['Whey1','Whey2','Whey3','Soy1','Soy2']\n",
    "#GLobal variable \"my_yticks\" which is an array that will replace the original y-ticks\n",
    "my_yticks = ['Whey1','Whey2','Whey3','Soy1','Soy2']\n",
    "#Replaces original x-ticks \"x\" with \"my_xticks\"\n",
    "plt.xticks(x, my_xticks)\n",
    "#Replaces original y-ticks \"y\" with \"my_yticks\"\n",
    "plt.yticks(y, my_yticks)\n",
    "\n",
    "#Beta-lactoglobulin = Whey1\n",
    "#Alpha-lactalbumin = Whey2\n",
    "#Glycomacropeptide = Whey3\n",
    "#β-conglycinin = Soy1\n",
    "#Glycinin = Soy2 \n",
    "\n",
    "#Show the plot\n",
    "plt.show()"
   ]
  },
  {
   "cell_type": "markdown",
   "id": "03f744ec",
   "metadata": {},
   "source": [
    "### Analysis of the Results\n",
    "The heat plot above shows the pairwise sequence alignment scores for each protein pair as labelled. The data was normalized for each column and so we will be considering the majority of the data row by row. The data shows proteins that are more similar to one another have a higher normalized scores whereas proteins that are not as similar will have lower normalized scores. The first row looks at the relationship of Whey1 with all other proteins and we can see that there is a decrease in the normalized score as we go down from Whey2 to Soy2. Roughly the normalize similarity score between Whey1 and Whey2 is between 0.4 and 0.5, between Whey1 and Whey3 it is between 0.3 and 0.4, between Whey1 and Soy1 it is between 0.2 and 0.3, and between Whey1 and Soy2 it falls below 0.2. However, interestingly when you look at the first column you see almost the opposite and this is attributed to the fact that if we take the raw pairwise scores Soy1 and Soy2 show higher scores compared to Whey2 and Whey3 simply due to the fact that their amino acid sequence is signficantly longer but when we normalize the data we get something that is closer to what the first row depicts. The same relationship is shown within the second row and second column and the third row and third column where the second and third row show a decrease in the normalized scores as we go from left to right. Meanwhile the second and third column show a increase in the normalized scores as we go from top to bottom because of what we mentioned before regarding how the raw pairwise scores are higher because of Soy1 and Soy2's sheer length. It should be noted that there are slight differences in the values for the normalized scores when we look at the second row and third row. Interestingly there is a shift when we get to the fourth row and fifth row compared to the fourth column and fifth column. The fourth and fifth row again show the problem where there is an indication of a higher normalized score but the lengths of the longer proteins have not been taken into full consideration. Whereas, the fourth and fifth column show more accurate representations of the normalized scores between each protein. Overall, the whey proteins show an increase in their normalized scores when being compared to one another and a decreased in their normalized scores when being compared to soy proteins. Likewise, soy proteins show an increase in their normalized scores when being compared to one another and a decrease in their normalized scores when being compared to whey proteins. However, the question remains whether the normalized scores are sufficient to determine if there are little to no overlaps between whey and soy proteins as there is evidence of some shared similarity but just tends to range from slightly below 0.2 to 0.3. "
   ]
  },
  {
   "cell_type": "markdown",
   "id": "a15584b7",
   "metadata": {},
   "source": [
    "### References (Note: Can see where each link was used by looking at comments in code or citations in other sections)\n",
    "https://www.ncbi.nlm.nih.gov/pmc/articles/PMC5124466/\n",
    "\n",
    "https://www.ncbi.nlm.nih.gov/pmc/articles/PMC5934683/\n",
    "\n",
    "https://www.ncbi.nlm.nih.gov/pmc/articles/PMC6471465/\n",
    "\n",
    "https://www.ncbi.nlm.nih.gov/pmc/articles/PMC6164536/\n",
    "\n",
    "https://www.ncbi.nlm.nih.gov/\n",
    "\n",
    "https://www.ncbi.nlm.nih.gov/pmc/articles/PMC2682512/\n",
    "\n",
    "https://www.w3schools.com/python/numpy/numpy_random.asp\n",
    "\n",
    "https://www.activestate.com/resources/quick-reads/what-is-matplotlib-in-python-how-to-use-it-for-plotting/\n",
    "\n",
    "https://biopython.org/wiki/AlignIO\n",
    "\n",
    "https://www.ncbi.nlm.nih.gov/protein/CAY39357.1 \n",
    "\n",
    "https://www.ncbi.nlm.nih.gov/protein/BAC06860.1\n",
    "\n",
    "https://www.ncbi.nlm.nih.gov/protein/P02668\n",
    "\n",
    "https://www.ncbi.nlm.nih.gov/protein/AAB23463.1\n",
    "\n",
    "https://www.ncbi.nlm.nih.gov/protein/AAA33964.1\n",
    "\n",
    "https://www.biostars.org/p/18129/\n",
    "\n",
    "https://stackoverflow.com/questions/31152011/multiple-sequence-alignment-with-unequal-string-length\n",
    "\n",
    "https://www.biostars.org/p/142519/\n",
    "\n",
    "https://towardsdatascience.com/pairwise-sequence-alignment-using-biopython-d1a9d0ba861f\n",
    "\n",
    "https://canvas.ucsd.edu/courses/29418/files/5721198?module_item_id=1126617&fd_cookie_set=1\n",
    "\n",
    "https://stackoverflow.com/questions/29301904/extracting-minimum-values-per-row-using-numpy\n",
    "\n",
    "https://stackoverflow.com/questions/19602187/numpy-divide-each-row-by-a-vector-element\n",
    "\n",
    "https://stackoverflow.com/questions/3100985/plot-with-custom-text-for-x-axis-points"
   ]
  }
 ],
 "metadata": {
  "kernelspec": {
   "display_name": "Python 3",
   "language": "python",
   "name": "python3"
  },
  "language_info": {
   "codemirror_mode": {
    "name": "ipython",
    "version": 3
   },
   "file_extension": ".py",
   "mimetype": "text/x-python",
   "name": "python",
   "nbconvert_exporter": "python",
   "pygments_lexer": "ipython3",
   "version": "3.8.8"
  }
 },
 "nbformat": 4,
 "nbformat_minor": 5
}
